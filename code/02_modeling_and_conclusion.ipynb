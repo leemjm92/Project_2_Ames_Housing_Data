{
 "cells": [
  {
   "cell_type": "markdown",
   "metadata": {},
   "source": [
    "# Project 2 - Ames Housing Data and Kaggle Challenge"
   ]
  },
  {
   "cell_type": "markdown",
   "metadata": {},
   "source": [
    "### Contents:\n",
    "1. [**Modeling**](#Modeling)\n",
    " - [Linear Regressions](#Linear-Regressions)\n",
    " - [Lasso Model](#Lasso-Model)\n",
    " - [Ridge Model](#Ridge-Model)\n",
    " - [Summary of Models](#Summary-of-Models)\n",
    " - [Final Lasso Model](#Final-Lasso-Model)\n",
    " - [Interpreting Lasso Model](#Interpreting-Lasso-Model)\n",
    " - [Outside Research](#Outside-Research)\n",
    " - [Conclusions and Recommendations](#Conclusions-and-Recommendations)"
   ]
  },
  {
   "cell_type": "code",
   "execution_count": 1,
   "metadata": {},
   "outputs": [],
   "source": [
    "import numpy as np\n",
    "import pandas as pd\n",
    "import matplotlib.pyplot as plt\n",
    "import seaborn as sns\n",
    "\n",
    "from sklearn.model_selection import train_test_split, cross_val_score,  GridSearchCV\n",
    "from sklearn.linear_model import LinearRegression, Lasso, Ridge, LassoCV, RidgeCV, ElasticNet, ElasticNetCV\n",
    "from sklearn.preprocessing import StandardScaler, PolynomialFeatures, PowerTransformer\n",
    "from sklearn.metrics import r2_score, mean_squared_error\n",
    "\n",
    "%matplotlib inline"
   ]
  },
  {
   "cell_type": "code",
   "execution_count": 2,
   "metadata": {},
   "outputs": [],
   "source": [
    "#allow viewing of all variables in pandas\n",
    "pd.set_option('max_columns', 200)"
   ]
  },
  {
   "cell_type": "code",
   "execution_count": 3,
   "metadata": {},
   "outputs": [],
   "source": [
    "df_train = pd.read_csv('../datasets/train_clean.csv')"
   ]
  },
  {
   "cell_type": "code",
   "execution_count": 4,
   "metadata": {},
   "outputs": [],
   "source": [
    "df_test = pd.read_csv('../datasets/test_clean.csv')"
   ]
  },
  {
   "cell_type": "markdown",
   "metadata": {},
   "source": [
    "## Modeling"
   ]
  },
  {
   "cell_type": "markdown",
   "metadata": {},
   "source": [
    "We will be modeling the training set through 4 different models, Linear Regression, Lasso, Ridge and ElasticNet. We then compare the 4 models and pick out the model that satisfy 2 criteria. Having a lower mean squared error while retaining a high R<sup>2</sup> score"
   ]
  },
  {
   "cell_type": "markdown",
   "metadata": {},
   "source": [
    "### Linear Regressions"
   ]
  },
  {
   "cell_type": "code",
   "execution_count": 5,
   "metadata": {},
   "outputs": [],
   "source": [
    "# as mentioned in the previous notebook after data clean up due to the different shape in test set and train set \n",
    "# we drop the features not in test set we also drop id and pid as they are just identifiers\n",
    "features = list(set(df_train.columns).intersection(set(df_test.columns)))\n",
    "features.remove('id')\n",
    "features.remove('pid')"
   ]
  },
  {
   "cell_type": "code",
   "execution_count": 6,
   "metadata": {},
   "outputs": [],
   "source": [
    "X = df_train[features]\n",
    "y = df_train['saleprice']\n",
    "X_kaggle = df_test[features]"
   ]
  },
  {
   "cell_type": "code",
   "execution_count": 7,
   "metadata": {},
   "outputs": [],
   "source": [
    "X_train, X_test, y_train, y_test = train_test_split(X, y, test_size = 0.2)"
   ]
  },
  {
   "cell_type": "code",
   "execution_count": 8,
   "metadata": {},
   "outputs": [],
   "source": [
    "# standardized the features\n",
    "ss = StandardScaler()\n",
    "X_train_ss = ss.fit_transform(X_train)\n",
    "X_test_ss = ss.transform(X_test)\n",
    "X_kaggle_ss = ss.transform(X_kaggle)"
   ]
  },
  {
   "cell_type": "code",
   "execution_count": 9,
   "metadata": {},
   "outputs": [
    {
     "data": {
      "text/plain": [
       "LinearRegression(copy_X=True, fit_intercept=True, n_jobs=None, normalize=False)"
      ]
     },
     "execution_count": 9,
     "metadata": {},
     "output_type": "execute_result"
    }
   ],
   "source": [
    "lr = LinearRegression()\n",
    "lr.fit(X_train, y_train)"
   ]
  },
  {
   "cell_type": "code",
   "execution_count": 10,
   "metadata": {},
   "outputs": [
    {
     "data": {
      "text/plain": [
       "0.9330307399694604"
      ]
     },
     "execution_count": 10,
     "metadata": {},
     "output_type": "execute_result"
    }
   ],
   "source": [
    "lr.score(X_train, y_train)"
   ]
  },
  {
   "cell_type": "code",
   "execution_count": 11,
   "metadata": {},
   "outputs": [
    {
     "data": {
      "text/plain": [
       "0.90392510530626"
      ]
     },
     "execution_count": 11,
     "metadata": {},
     "output_type": "execute_result"
    }
   ],
   "source": [
    "cross_val_score(lr, X_train, y_train, cv = 5).mean()"
   ]
  },
  {
   "cell_type": "code",
   "execution_count": 12,
   "metadata": {},
   "outputs": [
    {
     "name": "stdout",
     "output_type": "stream",
     "text": [
      "LR cross_val_score 0.90392510530626\n",
      "LR train r2 = 0.9330307399694604\n",
      "LR test r2 = 0.877760356817074\n",
      "LR RMSE = 24709.786080227193\n"
     ]
    }
   ],
   "source": [
    "print(\"LR cross_val_score\", cross_val_score(lr, X_train, y_train, cv = 5).mean())\n",
    "print('LR train r2 =', lr.score(X_train, y_train))\n",
    "print('LR test r2 =', lr.score(X_test, y_test))\n",
    "lr_rmse = np.sqrt(mean_squared_error(y_test, lr.predict(X_test)))\n",
    "print('LR RMSE =', lr_rmse)"
   ]
  },
  {
   "cell_type": "code",
   "execution_count": 13,
   "metadata": {},
   "outputs": [],
   "source": [
    "lr_coef = pd.DataFrame(list(zip(features, lr.coef_)))"
   ]
  },
  {
   "cell_type": "code",
   "execution_count": 14,
   "metadata": {},
   "outputs": [],
   "source": [
    "lr_coef.columns = ['features', 'coefficient']"
   ]
  },
  {
   "cell_type": "code",
   "execution_count": 15,
   "metadata": {},
   "outputs": [
    {
     "data": {
      "text/html": [
       "<div>\n",
       "<style scoped>\n",
       "    .dataframe tbody tr th:only-of-type {\n",
       "        vertical-align: middle;\n",
       "    }\n",
       "\n",
       "    .dataframe tbody tr th {\n",
       "        vertical-align: top;\n",
       "    }\n",
       "\n",
       "    .dataframe thead th {\n",
       "        text-align: right;\n",
       "    }\n",
       "</style>\n",
       "<table border=\"1\" class=\"dataframe\">\n",
       "  <thead>\n",
       "    <tr style=\"text-align: right;\">\n",
       "      <th></th>\n",
       "      <th>features</th>\n",
       "      <th>coefficient</th>\n",
       "    </tr>\n",
       "  </thead>\n",
       "  <tbody>\n",
       "    <tr>\n",
       "      <th>42</th>\n",
       "      <td>ms_subclass_45</td>\n",
       "      <td>43940.990212</td>\n",
       "    </tr>\n",
       "    <tr>\n",
       "      <th>0</th>\n",
       "      <td>ms_zoning_i_(all)</td>\n",
       "      <td>42085.623917</td>\n",
       "    </tr>\n",
       "    <tr>\n",
       "      <th>27</th>\n",
       "      <td>exterior_1st_cemntbd</td>\n",
       "      <td>41877.508791</td>\n",
       "    </tr>\n",
       "    <tr>\n",
       "      <th>175</th>\n",
       "      <td>sale_type_con</td>\n",
       "      <td>34107.207119</td>\n",
       "    </tr>\n",
       "    <tr>\n",
       "      <th>128</th>\n",
       "      <td>condition_2_posa</td>\n",
       "      <td>33751.146910</td>\n",
       "    </tr>\n",
       "    <tr>\n",
       "      <th>62</th>\n",
       "      <td>misc_feature_othr</td>\n",
       "      <td>32353.659946</td>\n",
       "    </tr>\n",
       "    <tr>\n",
       "      <th>19</th>\n",
       "      <td>bldg_type_2fmcon</td>\n",
       "      <td>29621.692459</td>\n",
       "    </tr>\n",
       "    <tr>\n",
       "      <th>45</th>\n",
       "      <td>ms_zoning_rh</td>\n",
       "      <td>28455.736925</td>\n",
       "    </tr>\n",
       "    <tr>\n",
       "      <th>115</th>\n",
       "      <td>exterior_2nd_vinylsd</td>\n",
       "      <td>27628.596062</td>\n",
       "    </tr>\n",
       "    <tr>\n",
       "      <th>112</th>\n",
       "      <td>house_style_2.5unf</td>\n",
       "      <td>27433.037809</td>\n",
       "    </tr>\n",
       "  </tbody>\n",
       "</table>\n",
       "</div>"
      ],
      "text/plain": [
       "                 features   coefficient\n",
       "42         ms_subclass_45  43940.990212\n",
       "0       ms_zoning_i_(all)  42085.623917\n",
       "27   exterior_1st_cemntbd  41877.508791\n",
       "175         sale_type_con  34107.207119\n",
       "128      condition_2_posa  33751.146910\n",
       "62      misc_feature_othr  32353.659946\n",
       "19       bldg_type_2fmcon  29621.692459\n",
       "45           ms_zoning_rh  28455.736925\n",
       "115  exterior_2nd_vinylsd  27628.596062\n",
       "112    house_style_2.5unf  27433.037809"
      ]
     },
     "execution_count": 15,
     "metadata": {},
     "output_type": "execute_result"
    }
   ],
   "source": [
    "lr_coef.sort_values('coefficient', ascending=False)[:10]"
   ]
  },
  {
   "cell_type": "code",
   "execution_count": 16,
   "metadata": {},
   "outputs": [
    {
     "data": {
      "text/html": [
       "<div>\n",
       "<style scoped>\n",
       "    .dataframe tbody tr th:only-of-type {\n",
       "        vertical-align: middle;\n",
       "    }\n",
       "\n",
       "    .dataframe tbody tr th {\n",
       "        vertical-align: top;\n",
       "    }\n",
       "\n",
       "    .dataframe thead th {\n",
       "        text-align: right;\n",
       "    }\n",
       "</style>\n",
       "<table border=\"1\" class=\"dataframe\">\n",
       "  <thead>\n",
       "    <tr style=\"text-align: right;\">\n",
       "      <th></th>\n",
       "      <th>features</th>\n",
       "      <th>coefficient</th>\n",
       "    </tr>\n",
       "  </thead>\n",
       "  <tbody>\n",
       "    <tr>\n",
       "      <th>49</th>\n",
       "      <td>neighborhood_collgcr</td>\n",
       "      <td>-26381.656763</td>\n",
       "    </tr>\n",
       "    <tr>\n",
       "      <th>111</th>\n",
       "      <td>exterior_1st_brkcomm</td>\n",
       "      <td>-26389.926503</td>\n",
       "    </tr>\n",
       "    <tr>\n",
       "      <th>25</th>\n",
       "      <td>exterior_2nd_cmentbd</td>\n",
       "      <td>-26428.398629</td>\n",
       "    </tr>\n",
       "    <tr>\n",
       "      <th>33</th>\n",
       "      <td>neighborhood_edwards</td>\n",
       "      <td>-27002.240283</td>\n",
       "    </tr>\n",
       "    <tr>\n",
       "      <th>46</th>\n",
       "      <td>utilities</td>\n",
       "      <td>-28198.393824</td>\n",
       "    </tr>\n",
       "    <tr>\n",
       "      <th>173</th>\n",
       "      <td>neighborhood_clearcr</td>\n",
       "      <td>-28391.381391</td>\n",
       "    </tr>\n",
       "    <tr>\n",
       "      <th>190</th>\n",
       "      <td>neighborhood_nwames</td>\n",
       "      <td>-29943.900431</td>\n",
       "    </tr>\n",
       "    <tr>\n",
       "      <th>91</th>\n",
       "      <td>mas_vnr_type_brkcmn</td>\n",
       "      <td>-30116.952422</td>\n",
       "    </tr>\n",
       "    <tr>\n",
       "      <th>51</th>\n",
       "      <td>ms_subclass_190</td>\n",
       "      <td>-34027.827595</td>\n",
       "    </tr>\n",
       "    <tr>\n",
       "      <th>163</th>\n",
       "      <td>garage_type_2types</td>\n",
       "      <td>-41241.929838</td>\n",
       "    </tr>\n",
       "  </tbody>\n",
       "</table>\n",
       "</div>"
      ],
      "text/plain": [
       "                 features   coefficient\n",
       "49   neighborhood_collgcr -26381.656763\n",
       "111  exterior_1st_brkcomm -26389.926503\n",
       "25   exterior_2nd_cmentbd -26428.398629\n",
       "33   neighborhood_edwards -27002.240283\n",
       "46              utilities -28198.393824\n",
       "173  neighborhood_clearcr -28391.381391\n",
       "190   neighborhood_nwames -29943.900431\n",
       "91    mas_vnr_type_brkcmn -30116.952422\n",
       "51        ms_subclass_190 -34027.827595\n",
       "163    garage_type_2types -41241.929838"
      ]
     },
     "execution_count": 16,
     "metadata": {},
     "output_type": "execute_result"
    }
   ],
   "source": [
    "lr_coef.sort_values('coefficient', ascending=False)[-10:]"
   ]
  },
  {
   "cell_type": "markdown",
   "metadata": {},
   "source": [
    "### Lasso Model"
   ]
  },
  {
   "cell_type": "code",
   "execution_count": 17,
   "metadata": {},
   "outputs": [],
   "source": [
    "lasso = LassoCV(n_alphas = 2000, cv = 5)"
   ]
  },
  {
   "cell_type": "code",
   "execution_count": 18,
   "metadata": {},
   "outputs": [
    {
     "data": {
      "text/plain": [
       "LassoCV(alphas=None, copy_X=True, cv=5, eps=0.001, fit_intercept=True,\n",
       "        max_iter=1000, n_alphas=2000, n_jobs=None, normalize=False,\n",
       "        positive=False, precompute='auto', random_state=None,\n",
       "        selection='cyclic', tol=0.0001, verbose=False)"
      ]
     },
     "execution_count": 18,
     "metadata": {},
     "output_type": "execute_result"
    }
   ],
   "source": [
    "lasso.fit(X_train_ss, y_train)"
   ]
  },
  {
   "cell_type": "code",
   "execution_count": 19,
   "metadata": {},
   "outputs": [
    {
     "name": "stdout",
     "output_type": "stream",
     "text": [
      "Lasso train r2 = 0.9280134111640562\n",
      "Lasso test r2 = 0.890145436673738\n",
      "Lasso RMSE = 23424.590092102437\n"
     ]
    }
   ],
   "source": [
    "# Lasso metrics\n",
    "print('Lasso train r2 =', lasso.score(X_train_ss, y_train))\n",
    "print('Lasso test r2 =', lasso.score(X_test_ss, y_test))\n",
    "lasso_rmse = np.sqrt(mean_squared_error(y_test, lasso.predict(X_test_ss)))\n",
    "print('Lasso RMSE =', lasso_rmse)"
   ]
  },
  {
   "cell_type": "markdown",
   "metadata": {},
   "source": [
    "### Ridge Model"
   ]
  },
  {
   "cell_type": "code",
   "execution_count": 20,
   "metadata": {},
   "outputs": [],
   "source": [
    "ridge = RidgeCV(alphas = np.logspace(-6, 6, 200))"
   ]
  },
  {
   "cell_type": "code",
   "execution_count": 21,
   "metadata": {},
   "outputs": [
    {
     "data": {
      "text/plain": [
       "RidgeCV(alphas=array([1.00000000e-06, 1.14895100e-06, 1.32008840e-06, 1.51671689e-06,\n",
       "       1.74263339e-06, 2.00220037e-06, 2.30043012e-06, 2.64308149e-06,\n",
       "       3.03677112e-06, 3.48910121e-06, 4.00880633e-06, 4.60592204e-06,\n",
       "       5.29197874e-06, 6.08022426e-06, 6.98587975e-06, 8.02643352e-06,\n",
       "       9.22197882e-06, 1.05956018e-05, 1.21738273e-05, 1.39871310e-05,\n",
       "       1.60705282e-05, 1.84642494e-0...\n",
       "       7.14942899e+04, 8.21434358e+04, 9.43787828e+04, 1.08436597e+05,\n",
       "       1.24588336e+05, 1.43145894e+05, 1.64467618e+05, 1.88965234e+05,\n",
       "       2.17111795e+05, 2.49450814e+05, 2.86606762e+05, 3.29297126e+05,\n",
       "       3.78346262e+05, 4.34701316e+05, 4.99450512e+05, 5.73844165e+05,\n",
       "       6.59318827e+05, 7.57525026e+05, 8.70359136e+05, 1.00000000e+06]),\n",
       "        cv=None, fit_intercept=True, gcv_mode=None, normalize=False,\n",
       "        scoring=None, store_cv_values=False)"
      ]
     },
     "execution_count": 21,
     "metadata": {},
     "output_type": "execute_result"
    }
   ],
   "source": [
    "ridge.fit(X_train_ss, y_train)"
   ]
  },
  {
   "cell_type": "code",
   "execution_count": 22,
   "metadata": {},
   "outputs": [
    {
     "name": "stdout",
     "output_type": "stream",
     "text": [
      "Ridge train r2 = 0.9293569414164429\n",
      "Ridge test r2 = 0.8867743347858104\n",
      "Ridge RMSE = 23781.288924287717\n"
     ]
    }
   ],
   "source": [
    "print('Ridge train r2 =', ridge.score(X_train_ss, y_train))\n",
    "print('Ridge test r2 =', ridge.score(X_test_ss, y_test))\n",
    "ridge_rmse = np.sqrt(mean_squared_error(y_test, ridge.predict(X_test_ss)))\n",
    "print('Ridge RMSE =', ridge_rmse)"
   ]
  },
  {
   "cell_type": "markdown",
   "metadata": {},
   "source": [
    "### Summary of Models"
   ]
  },
  {
   "cell_type": "code",
   "execution_count": 23,
   "metadata": {},
   "outputs": [
    {
     "name": "stdout",
     "output_type": "stream",
     "text": [
      "LR cross_val_score 0.90392510530626\n",
      "LR train r2 = 0.9330307399694604\n",
      "LR test r2 = 0.877760356817074\n",
      "LR RMSE = 24709.786080227193\n",
      "\n",
      "Lasso train r2 = 0.9280134111640562\n",
      "Lasso test r2 = 0.890145436673738\n",
      "Lasso RMSE = 23424.590092102437\n",
      "\n",
      "Ridge train r2 = 0.9293569414164429\n",
      "Ridge test r2 = 0.8867743347858104\n",
      "Ridge RMSE = 23781.288924287717\n"
     ]
    }
   ],
   "source": [
    "print(\"LR cross_val_score\", cross_val_score(lr, X_train, y_train, cv = 5).mean())\n",
    "print('LR train r2 =', lr.score(X_train, y_train))\n",
    "print('LR test r2 =', lr.score(X_test, y_test))\n",
    "lr_rmse = np.sqrt(mean_squared_error(y_test, lr.predict(X_test)))\n",
    "print('LR RMSE =', lr_rmse)\n",
    "print('\\nLasso train r2 =', lasso.score(X_train_ss, y_train))\n",
    "print('Lasso test r2 =', lasso.score(X_test_ss, y_test))\n",
    "lasso_rmse = np.sqrt(mean_squared_error(y_test, lasso.predict(X_test_ss)))\n",
    "print('Lasso RMSE =', lasso_rmse)\n",
    "print('\\nRidge train r2 =', ridge.score(X_train_ss, y_train))\n",
    "print('Ridge test r2 =', ridge.score(X_test_ss, y_test))\n",
    "ridge_rmse = np.sqrt(mean_squared_error(y_test, ridge.predict(X_test_ss)))\n",
    "print('Ridge RMSE =', ridge_rmse)"
   ]
  },
  {
   "cell_type": "markdown",
   "metadata": {},
   "source": [
    "Looking at the RMSE score, we will pick Lasso model as it has the lowers MSE score along with the highest R<sup>2</sup> test score"
   ]
  },
  {
   "cell_type": "markdown",
   "metadata": {},
   "source": [
    "### Final Lasso Model"
   ]
  },
  {
   "cell_type": "markdown",
   "metadata": {},
   "source": [
    "This time round we will fit the entire training set into our final model which is only for kaggle specifically"
   ]
  },
  {
   "cell_type": "code",
   "execution_count": 24,
   "metadata": {},
   "outputs": [],
   "source": [
    "X_ss = ss.fit_transform(X)"
   ]
  },
  {
   "cell_type": "code",
   "execution_count": 25,
   "metadata": {},
   "outputs": [],
   "source": [
    "lasso_final = lasso.fit(X_ss, y)"
   ]
  },
  {
   "cell_type": "code",
   "execution_count": 26,
   "metadata": {},
   "outputs": [],
   "source": [
    "pred = lasso.predict(X_kaggle_ss)"
   ]
  },
  {
   "cell_type": "code",
   "execution_count": 27,
   "metadata": {},
   "outputs": [],
   "source": [
    "df_lasso_kaggle = pd.DataFrame(df_test, columns = ['id'])"
   ]
  },
  {
   "cell_type": "code",
   "execution_count": 28,
   "metadata": {},
   "outputs": [],
   "source": [
    "df_lasso_kaggle['saleprice'] = pred\n"
   ]
  },
  {
   "cell_type": "code",
   "execution_count": 29,
   "metadata": {},
   "outputs": [
    {
     "data": {
      "text/html": [
       "<div>\n",
       "<style scoped>\n",
       "    .dataframe tbody tr th:only-of-type {\n",
       "        vertical-align: middle;\n",
       "    }\n",
       "\n",
       "    .dataframe tbody tr th {\n",
       "        vertical-align: top;\n",
       "    }\n",
       "\n",
       "    .dataframe thead th {\n",
       "        text-align: right;\n",
       "    }\n",
       "</style>\n",
       "<table border=\"1\" class=\"dataframe\">\n",
       "  <thead>\n",
       "    <tr style=\"text-align: right;\">\n",
       "      <th></th>\n",
       "      <th>id</th>\n",
       "      <th>saleprice</th>\n",
       "    </tr>\n",
       "  </thead>\n",
       "  <tbody>\n",
       "    <tr>\n",
       "      <th>0</th>\n",
       "      <td>2658</td>\n",
       "      <td>138687.318309</td>\n",
       "    </tr>\n",
       "    <tr>\n",
       "      <th>1</th>\n",
       "      <td>2718</td>\n",
       "      <td>157401.772411</td>\n",
       "    </tr>\n",
       "    <tr>\n",
       "      <th>2</th>\n",
       "      <td>2414</td>\n",
       "      <td>221618.101842</td>\n",
       "    </tr>\n",
       "    <tr>\n",
       "      <th>3</th>\n",
       "      <td>1989</td>\n",
       "      <td>111022.716913</td>\n",
       "    </tr>\n",
       "    <tr>\n",
       "      <th>4</th>\n",
       "      <td>625</td>\n",
       "      <td>177024.637440</td>\n",
       "    </tr>\n",
       "  </tbody>\n",
       "</table>\n",
       "</div>"
      ],
      "text/plain": [
       "     id      saleprice\n",
       "0  2658  138687.318309\n",
       "1  2718  157401.772411\n",
       "2  2414  221618.101842\n",
       "3  1989  111022.716913\n",
       "4   625  177024.637440"
      ]
     },
     "execution_count": 29,
     "metadata": {},
     "output_type": "execute_result"
    }
   ],
   "source": [
    "df_lasso_kaggle.head()"
   ]
  },
  {
   "cell_type": "code",
   "execution_count": 30,
   "metadata": {},
   "outputs": [],
   "source": [
    "df_lasso_kaggle.to_csv('../datasets/kaggle_submission_3.csv', index = False)"
   ]
  },
  {
   "cell_type": "markdown",
   "metadata": {},
   "source": [
    "### Interpreting Lasso Model"
   ]
  },
  {
   "cell_type": "markdown",
   "metadata": {},
   "source": [
    "We will be reviewing the train, test split model of lasso as we do not have the kaggle test set actual sale price"
   ]
  },
  {
   "cell_type": "code",
   "execution_count": 31,
   "metadata": {},
   "outputs": [
    {
     "data": {
      "text/plain": [
       "181479.01805758907"
      ]
     },
     "execution_count": 31,
     "metadata": {},
     "output_type": "execute_result"
    }
   ],
   "source": [
    "lasso.intercept_"
   ]
  },
  {
   "cell_type": "markdown",
   "metadata": {},
   "source": [
    "The intercept value is 181479 (rounded), which means that if all features in the model is reduce to zero, the home would cost about 181579 dollars. This is reasonable given the fact that if barebones features were available the plot of land would still be valuable"
   ]
  },
  {
   "cell_type": "code",
   "execution_count": 32,
   "metadata": {},
   "outputs": [
    {
     "data": {
      "image/png": "[encoded data removed]",
      "text/plain": [
       "<Figure size 576x576 with 1 Axes>"
      ]
     },
     "metadata": {
      "needs_background": "light"
     },
     "output_type": "display_data"
    }
   ],
   "source": [
    "plt.figure(figsize = (8,8))\n",
    "m, b = np.polyfit(x = lasso.predict(X_test_ss), y = y_test, deg = 1)\n",
    "plt.plot(lasso.predict(X_test_ss), y_test, '.')\n",
    "plt.plot(lasso.predict(X_test_ss), b + m * lasso.predict(X_test_ss), '-', color = 'k')\n",
    "frame1 = plt.gca()\n",
    "plt.xlabel('Predicted Sale Price')\n",
    "plt.ylabel('Actual Sale Price')\n",
    "plt.title('Lasso Model: Predicted Sale Price vs Actual Sale Price');"
   ]
  },
  {
   "cell_type": "code",
   "execution_count": 33,
   "metadata": {},
   "outputs": [],
   "source": [
    "predict = lasso.predict(X_test_ss)\n",
    "residuals = y_test - predict"
   ]
  },
  {
   "cell_type": "code",
   "execution_count": null,
   "metadata": {},
   "outputs": [],
   "source": [
    "plt.hist(residuals)\n",
    "plt.title('Distribution of Residuals');"
   ]
  },
  {
   "cell_type": "markdown",
   "metadata": {},
   "source": [
    "Here we can see that the residuals are normally distributed and centered around zero which means our model is accurate."
   ]
  },
  {
   "cell_type": "code",
   "execution_count": null,
   "metadata": {},
   "outputs": [],
   "source": [
    "lasso.score(X_test_ss, y_test)"
   ]
  },
  {
   "cell_type": "code",
   "execution_count": null,
   "metadata": {},
   "outputs": [],
   "source": [
    "coef_df = pd.DataFrame([lasso.coef_, X.columns], index = ['coefficients', 'features']).T\n",
    "coef_df = coef_df.set_index('features')\n",
    "coef_df = coef_df.sort_values(by='coefficients',ascending=False)\n",
    "coef_df.head(20)"
   ]
  },
  {
   "cell_type": "code",
   "execution_count": null,
   "metadata": {},
   "outputs": [],
   "source": [
    "coef_df.tail(20)"
   ]
  },
  {
   "cell_type": "code",
   "execution_count": null,
   "metadata": {},
   "outputs": [],
   "source": [
    "plt.figure(figsize = (14, 10))\n",
    "plt.barh(y=coef_df.index[:20], width=coef_df['coefficients'][0:20]);\n",
    "plt.title('Positive Contributing Features')\n",
    "plt.xlabel('Coefficient');"
   ]
  },
  {
   "cell_type": "code",
   "execution_count": null,
   "metadata": {},
   "outputs": [],
   "source": [
    "plt.figure(figsize = (14, 10))\n",
    "plt.barh(y=coef_df.index[-20:], width=coef_df['coefficients'][-20:]);\n",
    "plt.title('Negative Contributing Features')\n",
    "plt.xlabel('Coefficient');"
   ]
  },
  {
   "cell_type": "markdown",
   "metadata": {},
   "source": [
    "From the coefficient table we can sparse out that ground living area and overall quality still remains highly correlated to saleprice and this is expected as was discovered in our EDA, the top coefficient features are also group by quality, condition, housing area and neighborhood feature. One particular area we would like to zoom in on is the appearance of 3 distinct neighborhood; Northridge Heights, StoneBrook and Northridge. "
   ]
  },
  {
   "cell_type": "markdown",
   "metadata": {},
   "source": [
    "### Outside Research"
   ]
  },
  {
   "cell_type": "markdown",
   "metadata": {},
   "source": [
    "<img src=\"../images/top_3_ames_neighborhood.png\" />  \n",
    "[Image Source](https://www.google.com/maps/place/Northridge+Heights+Park/@42.055346,-93.6475705,15.75z/data=!4m5!3m4!1s0x87ee70d870002e1d:0xb084c9e6100e56f2!8m2!3d42.0597732!4d-93.6494713)\n",
    "\n",
    "Using Google maps, we can see that the top 3 neighborhood as seen from the positive cotributing features histogram are circled in orange. This means that it is likely that these three neighborhood are situated in the part of the city is likely part of the wealthier population. This is further support with external source saying that overall, the expenses in Northridge Heights are 2% higher than National Average and that most people in the neighborhood own their home with 83% of the households being occupied by owners [Source](https://www.addressreport.com/report/neighborhood/ames-ia/northridge-heights-ames-ia/?display=true).\n",
    "\n",
    "\n",
    "<img src=\"../images/housing_quality.png\" />  \n",
    "[Image Source](https://www.google.com/maps/place/Northridge+Heights+Park/@42.0592842,-93.6495254,3a,75y,214.69h,82.19t/data=!3m6!1e1!3m4!1s5f9pVAST0RW9Mg4IMw0M8A!2e0!7i16384!8i8192!4m5!3m4!1s0x87ee70d870002e1d:0xb084c9e6100e56f2!8m2!3d42.0597732!4d-93.6494713)\n",
    "\n",
    "As mentioned earlier, the top coefficient features are group by quality, condition, housing area and neighborhood. From this picture we can see that house along Northridge Heights have good exterior quality and look to be in good condition as well which further supports the fact that house quality and condition is an important factor for sales prices. \n",
    "\n",
    "Some additional features that can likely be included in future models would be crime rate, home ownership (renters or owners) and demographics of the neighborhood in questions. Lower crime rate is likely to affect sales price as well evidence by the fact that Northridge Heights has crime rate that is 53% lower than National average [Source](https://www.addressreport.com/report/neighborhood/ames-ia/northridge-heights-ames-ia/?display=true). "
   ]
  },
  {
   "cell_type": "markdown",
   "metadata": {},
   "source": [
    "### Conclusions and Recommendations"
   ]
  },
  {
   "cell_type": "markdown",
   "metadata": {},
   "source": [
    "**Top 10 Feature Correlation**\n",
    "1. Overall Quality \t\t\t\t(0.80)\n",
    "2. Exterior Quality\t\t\t\t(0.72)\n",
    "3. Above-Grade Living Area  \t(0.72)\n",
    "4. Kitchen Quality\t\t\t\t(0.69)\n",
    "5. Total Basement Square Ft\t\t(0.67)\n",
    "6. Garage Area\t\t\t\t\t(0.66)\n",
    "7. Garage Cars Capacity \t\t(0.65)\n",
    "8. First Floor Square Ft\t\t(0.65)\n",
    "9. Basement Quality\t\t\t\t(0.61)\n",
    "10. Year Built\t\t\t        (0.57)\n",
    "\n",
    "**Final Model Details**\n",
    " - Regularization: Lasso\n",
    " - Scaling: Standard Scalar\n",
    " - Cross-Validation R<sup>2</sup> Score: 0.9258\n",
    " - R<sup>2</sup> Score on Test Prediction: 0.9021\n",
    " - RSME: 24203.23\n",
    "\n",
    "After going through Linear Regularization, Lasso Regression and Ridge Regressions. The lasso model was eventually chosen due to lower root mean square error as well as higher R<sup>2</sup> score on the test prediction.\n",
    "\n",
    "**Top 10 Model Coefficients**\n",
    "1. Above Grade Living Area (24832.4)\n",
    "2. Overall Quality (12109.9)\n",
    "3. Type 1 Basement Area (9263.1)\n",
    "4. Year Built (7888.58)\n",
    "5. Northridge Heights Neighborhood (7302.22)\n",
    "6. Total Basement Area (6556.78)\n",
    "7. Masonry Veneer Area (5861.95)\n",
    "8. Stonebrook Neighborhood (5698.48)\n",
    "9. Exertnal Quality (5374.09)\n",
    "10. Overall Condition (4879.82)\n",
    "\n",
    "We can see that the major contributing features will be Area followed by quality of the house in question and next will be the neighborhood. The grouping of these factors are the minimum require to produce a model which is capable of doing a prediction that is fairly accurate.\n",
    "\n",
    "**Recommendations**\n",
    "\n",
    "For Homeowners who are looking to sell some areas of improvement that they can focus on are the quality/condition of the home before sales they can attempt to artitrage the remodel to increase in sales difference to sell the house for a higher profit.\n",
    "\n",
    "This model serves as a starting point to model similar cities. It also gives us a close look into the groups of factors that we likely would like to take note if we were to generate a new model for another cities. Additional research should also be done into how to more accurate quantify material categories. Additional features can also be include like crime rate, type of ownership (renters or owners) and more demographics of the neighbhorhood in general."
   ]
  }
 ],
 "metadata": {
  "kernelspec": {
   "display_name": "Python 3",
   "language": "python",
   "name": "python3"
  },
  "language_info": {
   "codemirror_mode": {
    "name": "ipython",
    "version": 3
   },
   "file_extension": ".py",
   "mimetype": "text/x-python",
   "name": "python",
   "nbconvert_exporter": "python",
   "pygments_lexer": "ipython3",
   "version": "3.7.6"
  }
 },
 "nbformat": 4,
 "nbformat_minor": 4
}
